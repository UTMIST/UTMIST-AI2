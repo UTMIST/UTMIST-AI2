{
 "cells": [
  {
   "cell_type": "code",
   "id": "initial_id",
   "metadata": {
    "collapsed": true,
    "ExecuteTime": {
     "end_time": "2025-10-25T19:01:40.329199Z",
     "start_time": "2025-10-25T19:01:40.327211Z"
    }
   },
   "source": [
    "from environment.environment import CameraResolution, WarehouseBrawl\n",
    "from environment.agent import RandomAgent, UserInputAgent, ConstantAgent, run_real_time_match"
   ],
   "outputs": [],
   "execution_count": 7
  },
  {
   "metadata": {
    "ExecuteTime": {
     "end_time": "2025-10-25T19:36:39.809195Z",
     "start_time": "2025-10-25T19:35:47.637443Z"
    }
   },
   "cell_type": "code",
   "source": [
    "# Run a match against user input (Out of the box Agent options include: UserInputAgent, ConstantAgent, RandomAgent and more in environment/agent.py\n",
    "agent_1 = UserInputAgent()\n",
    "agent_2 = RandomAgent()\n",
    "agent_3 = ConstantAgent()\n",
    "max_timesteps = 30*90\n",
    "run_real_time_match(agent_1, agent_2)"
   ],
   "id": "3683e23ee1827a0",
   "outputs": [
    {
     "name": "stdout",
     "output_type": "stream",
     "text": [
      "Failed to initialize pygame mixer\n",
      "Obs space [-1, -1, -1, -1, 0, 0, 0, 0, 0, 0, 0, 0, 0, 0, 0, 0, -1, -1, 0, -1, -1, 0, -1, -1, 0, -1, -1, 0, -1, -1, -1, -1, -1, -1, -1, -1, 0, 0, 0, 0, 0, 0, 0, 0, 0, 0, 0, 0, -1, -1, 0, -1, -1, 0, -1, -1, 0, -1, -1, 0, -1, -1, -1, -1] [1, 1, 1, 1, 1, 1, 1, 2, 12, 1, 1, 1, 1, 3, 11, 2, 1, 1, 3, 1, 1, 3, 1, 1, 3, 1, 1, 3, 1, 1, 1, 1, 1, 1, 1, 1, 1, 1, 1, 2, 12, 1, 1, 1, 1, 3, 11, 2, 1, 1, 3, 1, 1, 3, 1, 1, 3, 1, 1, 3, 1, 1, 1, 1]\n",
      "Action space [0, 0, 0, 0, 0, 0, 0, 0, 0, 0] [1, 1, 1, 1, 1, 1, 1, 1, 1, 1]\n",
      "Ground is rendered\n",
      "Ground is rendered\n",
      "Stage is rendered\n"
     ]
    },
    {
     "name": "stderr",
     "output_type": "stream",
     "text": [
      "100%|██████████| 16/16 [00:00<00:00, 35.31it/s]\n",
      "100%|██████████| 3/3 [00:00<00:00, 17.72it/s]\n",
      "100%|██████████| 16/16 [00:00<00:00, 33.51it/s]\n",
      "100%|██████████| 3/3 [00:00<00:00, 17.58it/s]\n"
     ]
    },
    {
     "name": "stdout",
     "output_type": "stream",
     "text": [
      "collided Hammer, True, True\n"
     ]
    },
    {
     "data": {
      "text/plain": [
       "MatchStats(match_time=47.3, player1=PlayerStats(damage_taken=37, damage_done=0, lives_left=3), player2=PlayerStats(damage_taken=0, damage_done=37, lives_left=0), player1_result=<Result.WIN: 1>)"
      ]
     },
     "execution_count": 12,
     "metadata": {},
     "output_type": "execute_result"
    }
   ],
   "execution_count": 12
  },
  {
   "metadata": {
    "ExecuteTime": {
     "end_time": "2025-10-25T19:02:58.548703Z",
     "start_time": "2025-10-25T19:02:57.985206Z"
    }
   },
   "cell_type": "code",
   "source": [
    "# The following is a dissection of what happens when run_match is called\n",
    "# env is initialized and initial observations are taken\n",
    "env = WarehouseBrawl(resolution=CameraResolution.LOW, train_mode=False)\n",
    "observations, info = env.reset()\n",
    "obs_1 = observations[0]\n",
    "obs_2 = observations[1]\n",
    "\n",
    "\n",
    "platform1 = env.objects['platform1']\n",
    "\n",
    "# On each tick, platform1 is moved, actions from agents (in this case, sampling from same agent) are taken, and the environment is stepped.\n",
    "platform1.physics_process(0.05)\n",
    "full_action = {\n",
    "    0: agent_2.predict(obs_1),\n",
    "    1: agent_2.predict(obs_2),\n",
    "}\n",
    "\n",
    "observations, rewards, terminated, truncated, info = env.step(full_action)\n",
    "obs_1 = observations[0]\n",
    "obs_2 = observations[1]\n",
    "\n",
    "print(\"Observations and actions below\")\n",
    "print(f'{obs_1=}')\n",
    "print(f'{full_action=}')\n"
   ],
   "id": "d161e45f907ef4b",
   "outputs": [
    {
     "name": "stdout",
     "output_type": "stream",
     "text": [
      "Obs space [-1, -1, -1, -1, 0, 0, 0, 0, 0, 0, 0, 0, 0, 0, 0, 0, -1, -1, 0, -1, -1, 0, -1, -1, 0, -1, -1, 0, -1, -1, -1, -1, -1, -1, -1, -1, 0, 0, 0, 0, 0, 0, 0, 0, 0, 0, 0, 0, -1, -1, 0, -1, -1, 0, -1, -1, 0, -1, -1, 0, -1, -1, -1, -1] [1, 1, 1, 1, 1, 1, 1, 2, 12, 1, 1, 1, 1, 3, 11, 2, 1, 1, 3, 1, 1, 3, 1, 1, 3, 1, 1, 3, 1, 1, 1, 1, 1, 1, 1, 1, 1, 1, 1, 2, 12, 1, 1, 1, 1, 3, 11, 2, 1, 1, 3, 1, 1, 3, 1, 1, 3, 1, 1, 3, 1, 1, 1, 1]\n",
      "Action space [0, 0, 0, 0, 0, 0, 0, 0, 0, 0] [1, 1, 1, 1, 1, 1, 1, 1, 1, 1]\n",
      "Observations and actions below\n",
      "obs_1=array([ 5.        ,  0.        ,  0.        ,  0.        ,  0.        ,\n",
      "        0.        ,  1.        ,  0.        ,  7.        ,  0.        ,\n",
      "       10.        ,  0.        ,  0.        ,  3.        ,  0.        ,\n",
      "        0.        ,  0.        ,  0.        ,  0.        ,  0.        ,\n",
      "        0.        ,  0.        ,  0.        ,  0.        ,  0.        ,\n",
      "        0.        ,  0.        ,  0.        , -0.02427733,  1.02427733,\n",
      "       -0.72831998,  0.72831998, -5.        ,  0.        ,  0.        ,\n",
      "        0.        ,  1.        ,  0.        ,  1.        ,  0.        ,\n",
      "        7.        ,  0.        , 10.        ,  0.        ,  0.        ,\n",
      "        3.        ,  0.        ,  0.        ,  0.        ,  0.        ,\n",
      "        0.        ,  0.        ,  0.        ,  0.        ,  0.        ,\n",
      "        0.        ,  0.        ,  0.        ,  0.        ,  0.        ,\n",
      "       -0.02427733,  1.02427733, -0.72831998,  0.72831998])\n",
      "full_action={0: array([0.8752054 , 0.43054044, 0.7024335 , 0.25002134, 0.41227365,\n",
      "       0.44131702, 0.9946157 , 0.5552907 , 0.13701501, 0.24443287],\n",
      "      dtype=float32), 1: array([0.60771155, 0.53029954, 0.437008  , 0.93546927, 0.5549245 ,\n",
      "       0.7867303 , 0.6149911 , 0.98021257, 0.6545342 , 0.13462265],\n",
      "      dtype=float32)}\n"
     ]
    }
   ],
   "execution_count": 11
  },
  {
   "metadata": {},
   "cell_type": "code",
   "outputs": [],
   "execution_count": null,
   "source": "",
   "id": "92eeb07bbadb6a15"
  }
 ],
 "metadata": {
  "kernelspec": {
   "display_name": "Python 3",
   "language": "python",
   "name": "python3"
  },
  "language_info": {
   "codemirror_mode": {
    "name": "ipython",
    "version": 2
   },
   "file_extension": ".py",
   "mimetype": "text/x-python",
   "name": "python",
   "nbconvert_exporter": "python",
   "pygments_lexer": "ipython2",
   "version": "2.7.6"
  }
 },
 "nbformat": 4,
 "nbformat_minor": 5
}
