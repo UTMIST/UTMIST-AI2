{
 "cells": [
  {
   "cell_type": "code",
   "id": "initial_id",
   "metadata": {
    "collapsed": true,
    "ExecuteTime": {
     "end_time": "2025-10-26T19:00:24.664715Z",
     "start_time": "2025-10-26T19:00:22.668058Z"
    }
   },
   "source": [
    "from environment.environment import CameraResolution, WarehouseBrawl\n",
    "from environment.agent import Agent, RandomAgent, UserInputAgent, ConstantAgent, run_real_time_match"
   ],
   "outputs": [
    {
     "name": "stderr",
     "output_type": "stream",
     "text": [
      "/Users/kian/Projects/UTMIST-AI2/.venv1/lib/python3.12/site-packages/pygame/pkgdata.py:25: UserWarning: pkg_resources is deprecated as an API. See https://setuptools.pypa.io/en/latest/pkg_resources.html. The pkg_resources package is slated for removal as early as 2025-11-30. Refrain from using this package or pin to Setuptools<81.\n",
      "  from pkg_resources import resource_stream, resource_exists\n",
      "Gym has been unmaintained since 2022 and does not support NumPy 2.0 amongst other critical functionality.\n",
      "Please upgrade to Gymnasium, the maintained drop-in replacement of Gym, or contact the authors of your software and request that they upgrade.\n",
      "See the migration guide at https://gymnasium.farama.org/introduction/migration_guide/ for additional information.\n"
     ]
    }
   ],
   "execution_count": 2
  },
  {
   "metadata": {
    "ExecuteTime": {
     "end_time": "2025-10-26T17:45:15.637272Z",
     "start_time": "2025-10-26T17:43:38.868009Z"
    }
   },
   "cell_type": "code",
   "source": [
    "# Run a match against user input (Out of the box Agent options include: UserInputAgent, ConstantAgent, RandomAgent and more in environment/agent.py\n",
    "agent_1 = UserInputAgent()\n",
    "agent_2 = RandomAgent()\n",
    "agent_3 = ConstantAgent()\n",
    "max_timesteps = 30*90\n",
    "run_real_time_match(agent_1, agent_3)"
   ],
   "id": "3683e23ee1827a0",
   "outputs": [
    {
     "name": "stdout",
     "output_type": "stream",
     "text": [
      "Obs space [-1, -1, -1, -1, 0, 0, 0, 0, 0, 0, 0, 0, 0, 0, 0, 0, -1, -1, 0, -1, -1, 0, -1, -1, 0, -1, -1, 0, -1, -1, -1, -1, -1, -1, -1, -1, 0, 0, 0, 0, 0, 0, 0, 0, 0, 0, 0, 0, -1, -1, 0, -1, -1, 0, -1, -1, 0, -1, -1, 0, -1, -1, -1, -1] [1, 1, 1, 1, 1, 1, 1, 2, 12, 1, 1, 1, 1, 3, 11, 2, 1, 1, 3, 1, 1, 3, 1, 1, 3, 1, 1, 3, 1, 1, 1, 1, 1, 1, 1, 1, 1, 1, 1, 2, 12, 1, 1, 1, 1, 3, 11, 2, 1, 1, 3, 1, 1, 3, 1, 1, 3, 1, 1, 3, 1, 1, 1, 1]\n",
      "Action space [0, 0, 0, 0, 0, 0, 0, 0, 0, 0] [1, 1, 1, 1, 1, 1, 1, 1, 1, 1]\n",
      "Ground is rendered\n",
      "Ground is rendered\n",
      "Stage is rendered\n"
     ]
    },
    {
     "name": "stderr",
     "output_type": "stream",
     "text": [
      "100%|██████████| 3/3 [00:00<00:00, 22.01it/s]\n",
      "100%|██████████| 16/16 [00:00<00:00, 41.77it/s]\n",
      "100%|██████████| 3/3 [00:00<00:00, 22.16it/s]\n",
      "100%|██████████| 16/16 [00:00<00:00, 42.28it/s]\n"
     ]
    },
    {
     "data": {
      "text/plain": [
       "MatchStats(match_time=90.0, player1=PlayerStats(damage_taken=0, damage_done=0, lives_left=3), player2=PlayerStats(damage_taken=0, damage_done=0, lives_left=3), player1_result=<Result.DRAW: 0.5>)"
      ]
     },
     "execution_count": 9,
     "metadata": {},
     "output_type": "execute_result"
    }
   ],
   "execution_count": 9
  },
  {
   "metadata": {},
   "cell_type": "code",
   "outputs": [],
   "execution_count": null,
   "source": "",
   "id": "70c1d6fea2b1b2d1"
  },
  {
   "metadata": {
    "ExecuteTime": {
     "end_time": "2025-10-25T19:02:58.548703Z",
     "start_time": "2025-10-25T19:02:57.985206Z"
    }
   },
   "cell_type": "code",
   "source": [
    "# The following is a dissection of what happens when run_match is called\n",
    "# env is initialized and initial observations are taken\n",
    "env = WarehouseBrawl(resolution=CameraResolution.LOW, train_mode=False)\n",
    "observations, info = env.reset()\n",
    "obs_1 = observations[0]\n",
    "obs_2 = observations[1]\n",
    "\n",
    "\n",
    "platform1 = env.objects['platform1']\n",
    "\n",
    "# On each tick, platform1 is moved, actions from agents (in this case, sampling from same agent) are taken, and the environment is stepped.\n",
    "platform1.physics_process(0.05)\n",
    "full_action = {\n",
    "    0: agent_2.predict(obs_1),\n",
    "    1: agent_2.predict(obs_2),\n",
    "}\n",
    "\n",
    "observations, rewards, terminated, truncated, info = env.step(full_action)\n",
    "obs_1 = observations[0]\n",
    "obs_2 = observations[1]\n",
    "\n",
    "print(\"Observations and actions below\")\n",
    "print(f'{obs_1=}')\n",
    "print(f'{full_action=}')\n"
   ],
   "id": "d161e45f907ef4b",
   "outputs": [
    {
     "name": "stdout",
     "output_type": "stream",
     "text": [
      "Obs space [-1, -1, -1, -1, 0, 0, 0, 0, 0, 0, 0, 0, 0, 0, 0, 0, -1, -1, 0, -1, -1, 0, -1, -1, 0, -1, -1, 0, -1, -1, -1, -1, -1, -1, -1, -1, 0, 0, 0, 0, 0, 0, 0, 0, 0, 0, 0, 0, -1, -1, 0, -1, -1, 0, -1, -1, 0, -1, -1, 0, -1, -1, -1, -1] [1, 1, 1, 1, 1, 1, 1, 2, 12, 1, 1, 1, 1, 3, 11, 2, 1, 1, 3, 1, 1, 3, 1, 1, 3, 1, 1, 3, 1, 1, 1, 1, 1, 1, 1, 1, 1, 1, 1, 2, 12, 1, 1, 1, 1, 3, 11, 2, 1, 1, 3, 1, 1, 3, 1, 1, 3, 1, 1, 3, 1, 1, 1, 1]\n",
      "Action space [0, 0, 0, 0, 0, 0, 0, 0, 0, 0] [1, 1, 1, 1, 1, 1, 1, 1, 1, 1]\n",
      "Observations and actions below\n",
      "obs_1=array([ 5.        ,  0.        ,  0.        ,  0.        ,  0.        ,\n",
      "        0.        ,  1.        ,  0.        ,  7.        ,  0.        ,\n",
      "       10.        ,  0.        ,  0.        ,  3.        ,  0.        ,\n",
      "        0.        ,  0.        ,  0.        ,  0.        ,  0.        ,\n",
      "        0.        ,  0.        ,  0.        ,  0.        ,  0.        ,\n",
      "        0.        ,  0.        ,  0.        , -0.02427733,  1.02427733,\n",
      "       -0.72831998,  0.72831998, -5.        ,  0.        ,  0.        ,\n",
      "        0.        ,  1.        ,  0.        ,  1.        ,  0.        ,\n",
      "        7.        ,  0.        , 10.        ,  0.        ,  0.        ,\n",
      "        3.        ,  0.        ,  0.        ,  0.        ,  0.        ,\n",
      "        0.        ,  0.        ,  0.        ,  0.        ,  0.        ,\n",
      "        0.        ,  0.        ,  0.        ,  0.        ,  0.        ,\n",
      "       -0.02427733,  1.02427733, -0.72831998,  0.72831998])\n",
      "full_action={0: array([0.8752054 , 0.43054044, 0.7024335 , 0.25002134, 0.41227365,\n",
      "       0.44131702, 0.9946157 , 0.5552907 , 0.13701501, 0.24443287],\n",
      "      dtype=float32), 1: array([0.60771155, 0.53029954, 0.437008  , 0.93546927, 0.5549245 ,\n",
      "       0.7867303 , 0.6149911 , 0.98021257, 0.6545342 , 0.13462265],\n",
      "      dtype=float32)}\n"
     ]
    }
   ],
   "execution_count": 11
  },
  {
   "metadata": {
    "ExecuteTime": {
     "end_time": "2025-10-26T19:00:26.712853Z",
     "start_time": "2025-10-26T19:00:26.701331Z"
    }
   },
   "cell_type": "code",
   "source": [
    "import torch\n",
    "import gymnasium as gym\n",
    "from torch.nn import functional as F\n",
    "from torch import nn as nn\n",
    "import numpy as np\n",
    "import pygame\n",
    "from stable_baselines3 import A2C, PPO, SAC, DQN, DDPG, TD3, HER\n",
    "from sb3_contrib import RecurrentPPO\n",
    "from stable_baselines3.common.base_class import BaseAlgorithm\n",
    "from stable_baselines3.common.torch_layers import BaseFeaturesExtractor\n",
    "class MLPExtractor(BaseFeaturesExtractor):\n",
    "    '''\n",
    "    Class that defines an MLP Base Features Extractor\n",
    "    '''\n",
    "    def __init__(self, observation_space: gym.Space, features_dim: int = 64, hidden_dim: int = 64):\n",
    "        super(MLPExtractor, self).__init__(observation_space, features_dim)\n",
    "        self.model = MLPPolicy(\n",
    "            obs_dim=observation_space.shape[0],\n",
    "            action_dim=10,\n",
    "            hidden_dim=hidden_dim,\n",
    "        )\n",
    "\n",
    "    def forward(self, obs: torch.Tensor) -> torch.Tensor:\n",
    "        return self.model(obs)\n",
    "\n",
    "    @classmethod\n",
    "    def get_policy_kwargs(cls, features_dim: int = 64, hidden_dim: int = 64) -> dict:\n",
    "        return dict(\n",
    "            features_extractor_class=cls,\n",
    "            features_extractor_kwargs=dict(features_dim=features_dim, hidden_dim=hidden_dim) #NOTE: features_dim = 10 to match action space output\n",
    "        )\n",
    "\n",
    "class CustomAgent(Agent):\n",
    "    def __init__(self, sb3_class, file_path: str = None, extractor: BaseFeaturesExtractor = None):\n",
    "        self.sb3_class = sb3_class\n",
    "        self.extractor = extractor\n",
    "        super().__init__(file_path)\n",
    "\n",
    "    def _initialize(self) -> None:\n",
    "        if self.file_path is None:\n",
    "            self.model = self.sb3_class(\"MlpPolicy\", self.env, policy_kwargs=self.extractor.get_policy_kwargs(), verbose=0, n_steps=30*90*3, batch_size=128, ent_coef=0.01)\n",
    "            del self.env\n",
    "        else:\n",
    "            self.model = self.sb3_class.load(self.file_path)\n",
    "\n",
    "    def _gdown(self) -> str:\n",
    "        # Call gdown to your link\n",
    "        return\n",
    "\n",
    "    #def set_ignore_grad(self) -> None:\n",
    "        #self.model.set_ignore_act_grad(True)\n",
    "\n",
    "    def predict(self, obs):\n",
    "        action, _ = self.model.predict(obs)\n",
    "        return action\n",
    "\n",
    "    def save(self, file_path: str) -> None:\n",
    "        self.model.save(file_path, include=['num_timesteps'])\n",
    "\n",
    "    def learn(self, env, total_timesteps, log_interval: int = 1, verbose=0):\n",
    "        self.model.set_env(env)\n",
    "        self.model.verbose = verbose\n",
    "        self.model.learn(\n",
    "            total_timesteps=total_timesteps,\n",
    "            log_interval=log_interval,\n",
    "        )"
   ],
   "id": "92eeb07bbadb6a15",
   "outputs": [],
   "execution_count": 3
  },
  {
   "metadata": {
    "ExecuteTime": {
     "end_time": "2025-10-26T19:01:51.038124Z",
     "start_time": "2025-10-26T19:00:27.739363Z"
    }
   },
   "cell_type": "code",
   "source": [
    "agent_4 = CustomAgent(sb3_class=PPO, extractor=MLPExtractor, file_path=\"checkpoints/experiment_3/rl_model_5004440_steps.zip\")\n",
    "agent_1 = UserInputAgent()\n",
    "max_timesteps = 30*90\n",
    "run_real_time_match(agent_1, agent_4)"
   ],
   "id": "1140458a07fa0116",
   "outputs": [
    {
     "name": "stdout",
     "output_type": "stream",
     "text": [
      "Obs space [-1, -1, -1, -1, 0, 0, 0, 0, 0, 0, 0, 0, 0, 0, 0, 0, -1, -1, 0, -1, -1, 0, -1, -1, 0, -1, -1, 0, -1, -1, -1, -1, -1, -1, -1, -1, 0, 0, 0, 0, 0, 0, 0, 0, 0, 0, 0, 0, -1, -1, 0, -1, -1, 0, -1, -1, 0, -1, -1, 0, -1, -1, -1, -1] [1, 1, 1, 1, 1, 1, 1, 2, 12, 1, 1, 1, 1, 3, 11, 2, 1, 1, 3, 1, 1, 3, 1, 1, 3, 1, 1, 3, 1, 1, 1, 1, 1, 1, 1, 1, 1, 1, 1, 2, 12, 1, 1, 1, 1, 3, 11, 2, 1, 1, 3, 1, 1, 3, 1, 1, 3, 1, 1, 3, 1, 1, 1, 1]\n",
      "Action space [0, 0, 0, 0, 0, 0, 0, 0, 0, 0] [1, 1, 1, 1, 1, 1, 1, 1, 1, 1]\n",
      "Ground is rendered\n",
      "Ground is rendered\n",
      "Stage is rendered\n"
     ]
    },
    {
     "name": "stderr",
     "output_type": "stream",
     "text": [
      "100%|██████████| 3/3 [00:00<00:00, 17.52it/s]\n",
      "100%|██████████| 16/16 [00:00<00:00, 40.28it/s]\n",
      "100%|██████████| 3/3 [00:00<00:00, 22.64it/s]\n",
      "100%|██████████| 16/16 [00:00<00:00, 41.92it/s]\n"
     ]
    },
    {
     "name": "stdout",
     "output_type": "stream",
     "text": [
      "collided Hammer, True, True\n",
      "[FRAME 406] Player 1 dropped 'Hammer' spawner at [1.9082165134327995, 0.40969182240544144] (id 2).\n",
      "pickup Hammer, True, True\n",
      "[FRAME 431] Player 1 dropped 'Hammer' spawner at [1.908216517817563, 0.40969181859069614] (id 3).\n",
      "pickup Hammer, True, True\n",
      "[FRAME 471] Player 1 dropped 'Hammer' spawner at [2.027660962910903, -1.8873481818338924] (id 4).\n",
      "pickup Hammer, True, True\n",
      "[FRAME 514] Player 1 dropped 'Hammer' spawner at [2.1637807810760643, -1.1858169786770314] (id 5).\n",
      "pickup Hammer, True, True\n",
      "[FRAME 543] Player 1 dropped 'Hammer' spawner at [2.093745574784796, -0.274725824754209] (id 6).\n",
      "collided Hammer, True, True\n",
      "[FRAME 969] Player 1 dropped 'Hammer' spawner at [3.9489562307456407, -1.7587860337276469] (id 7).\n",
      "pickup Hammer, True, True\n",
      "[FRAME 1071] Player 1 dropped 'Hammer' spawner at [4.628186607743737, -0.12340697055634398] (id 8).\n",
      "collided Hammer, True, True\n",
      "[FRAME 1548] Player 1 dropped 'Hammer' spawner at [5.007962963068649, 0.1188533332376428] (id 9).\n",
      "pickup Hammer, True, True\n",
      "[FRAME 1618] Player 1 dropped 'Hammer' spawner at [3.811436236093083, 0.15973142154852615] (id 10).\n",
      "pickup Hammer, True, True\n",
      "[FRAME 1745] Player 1 dropped 'Hammer' spawner at [2.6724566413928206, -2.983758647502079] (id 11).\n",
      "pickup Hammer, True, True\n",
      "[FRAME 1818] Player 1 dropped 'Hammer' spawner at [2.7481048025088777, 0.45006682263697884] (id 12).\n",
      "pickup Hammer, True, True\n",
      "[FRAME 1842] Player 1 dropped 'Hammer' spawner at [2.748104808309945, 0.450000323410816] (id 13).\n",
      "pickup Hammer, True, True\n",
      "[FRAME 1860] Player 1 dropped 'Hammer' spawner at [2.748104811033985, 0.44999990484309116] (id 14).\n",
      "pickup Hammer, True, True\n",
      "[FRAME 1882] Player 1 dropped 'Hammer' spawner at [2.7481048124697827, 0.44999989409460955] (id 15).\n",
      "pickup Hammer, True, True\n",
      "[FRAME 2104] Player 1 dropped 'Hammer' spawner at [3.10617996224456, 0.4771906719700162] (id 16).\n",
      "pickup Hammer, True, True\n",
      "[FRAME 2131] Player 1 dropped 'Hammer' spawner at [3.1061799584691574, 0.4500918702950898] (id 17).\n",
      "pickup Hammer, True, True\n",
      "[FRAME 2151] Player 1 dropped 'Hammer' spawner at [3.1061799576207982, 0.4500012883647227] (id 18).\n",
      "collided Hammer, True, True\n",
      "[FRAME 2169] Player 1 dropped 'Hammer' spawner at [3.1061799579061797, 0.4499999597265337] (id 19).\n"
     ]
    },
    {
     "data": {
      "text/plain": [
       "MatchStats(match_time=76.56666666666666, player1=PlayerStats(damage_taken=0, damage_done=18, lives_left=3), player2=PlayerStats(damage_taken=18, damage_done=0, lives_left=0), player1_result=<Result.WIN: 1>)"
      ]
     },
     "execution_count": 4,
     "metadata": {},
     "output_type": "execute_result"
    }
   ],
   "execution_count": 4
  },
  {
   "metadata": {},
   "cell_type": "code",
   "outputs": [],
   "execution_count": null,
   "source": "",
   "id": "9533fe478b07ff2d"
  },
  {
   "metadata": {},
   "cell_type": "code",
   "outputs": [],
   "execution_count": null,
   "source": "",
   "id": "c6e52586329a4605"
  }
 ],
 "metadata": {
  "kernelspec": {
   "display_name": "Python 3",
   "language": "python",
   "name": "python3"
  },
  "language_info": {
   "codemirror_mode": {
    "name": "ipython",
    "version": 2
   },
   "file_extension": ".py",
   "mimetype": "text/x-python",
   "name": "python",
   "nbconvert_exporter": "python",
   "pygments_lexer": "ipython2",
   "version": "2.7.6"
  }
 },
 "nbformat": 4,
 "nbformat_minor": 5
}
